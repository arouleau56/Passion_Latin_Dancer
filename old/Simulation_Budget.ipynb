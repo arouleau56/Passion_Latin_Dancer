{
 "cells": [
  {
   "cell_type": "markdown",
   "metadata": {},
   "source": [
    "<h1>0. Parametres</h1>"
   ]
  },
  {
   "cell_type": "markdown",
   "metadata": {},
   "source": [
    "<h2>0.1. Cout Horaire</h2>"
   ]
  },
  {
   "cell_type": "markdown",
   "metadata": {},
   "source": [
    "<h3>0.1.1. Profs</h3>"
   ]
  },
  {
   "cell_type": "code",
   "execution_count": 1,
   "metadata": {},
   "outputs": [],
   "source": [
    "CH_Prof = {\n",
    "    'Johanna':{\n",
    "        'Niv1': 30,\n",
    "        'Niv2': 30\n",
    "    },\n",
    "    'Merhan':{\n",
    "        'Bodywork': 60,\n",
    "        'LadyStyling': 60,\n",
    "        'AtChor': 60,\n",
    "        'Intensif': 55\n",
    "    },\n",
    "    'Samuel':{\n",
    "        'Niv1': 55,\n",
    "        'Niv2': 55,\n",
    "        'AtChor': 55,\n",
    "        'Intensif': 55\n",
    "    }\n",
    "    }"
   ]
  },
  {
   "cell_type": "markdown",
   "metadata": {},
   "source": [
    "<h3>0.1.2. Salles</h3>"
   ]
  },
  {
   "cell_type": "code",
   "execution_count": 2,
   "metadata": {},
   "outputs": [],
   "source": [
    "CH_Salle = {\n",
    "    'Orpheon':{\n",
    "        'Niv1': 17,\n",
    "        'Niv2': 17\n",
    "    },\n",
    "    'StEtienne':{\n",
    "        'Bodywork': 0,\n",
    "        'LadyStyling': 0,\n",
    "        'AtChor': 0,\n",
    "        'Intensif': 0\n",
    "    }\n",
    "}"
   ]
  },
  {
   "cell_type": "markdown",
   "metadata": {},
   "source": [
    "<h3>0.1.3. Assurance</h3>"
   ]
  },
  {
   "cell_type": "code",
   "execution_count": 3,
   "metadata": {},
   "outputs": [],
   "source": [
    "CH_Assurance = {\n",
    "    'Orpheon':{\n",
    "        'Niv1': 0.51,\n",
    "        'Niv2': 0.51,\n",
    "        'Bodywork': 0.51,\n",
    "        'LadyStyling': 0.51,\n",
    "    }\n",
    "}"
   ]
  },
  {
   "cell_type": "markdown",
   "metadata": {},
   "source": [
    "<h2>0.2. Cout unitaire</h2>"
   ]
  },
  {
   "cell_type": "markdown",
   "metadata": {},
   "source": [
    "<h3>0.2.1. Déplacement profs/cours"
   ]
  },
  {
   "cell_type": "code",
   "execution_count": 76,
   "metadata": {},
   "outputs": [],
   "source": [
    "CU_Deplacement = {\n",
    "    'Johanna': {\n",
    "        'Niv1': 0,\n",
    "        'Niv2': 0\n",
    "    },\n",
    "    'Merhan': {\n",
    "        'Bodywork': 10,\n",
    "        'LadyStyling': 10,\n",
    "        'AtChor': 10,\n",
    "        'Intensif': 10\n",
    "    },\n",
    "    'Samuel': {\n",
    "        'Niv1': 0,\n",
    "        'Niv2': 0,\n",
    "        'AtChor': 0,\n",
    "        'Intensif': 0\n",
    "    }\n",
    "}"
   ]
  },
  {
   "cell_type": "markdown",
   "metadata": {},
   "source": [
    "<h2>0.3. Couts fixes</h2>"
   ]
  },
  {
   "cell_type": "code",
   "execution_count": 5,
   "metadata": {},
   "outputs": [],
   "source": [
    "CF_Adhesion = {\n",
    "    'Adhésion': 15\n",
    "}"
   ]
  },
  {
   "cell_type": "markdown",
   "metadata": {},
   "source": [
    "<h2>0.4. Taille des programmes</h2>"
   ]
  },
  {
   "cell_type": "code",
   "execution_count": 38,
   "metadata": {},
   "outputs": [],
   "source": [
    "Cours = {\n",
    "    'NbSeances':\n",
    "    {\n",
    "        'Niv1': 33,\n",
    "        'Niv2': 33,\n",
    "        'Bodywork': 15,\n",
    "        'LadyStyling': 15,\n",
    "        'AtChor': 10,\n",
    "        'Intensif': 10\n",
    "    },\n",
    "    'DureeSeance':\n",
    "    {\n",
    "        'Niv1': 1.5,\n",
    "        'Niv2': 1.5,\n",
    "        'Bodywork': 1,\n",
    "        'LadyStyling': 1.5,\n",
    "        'AtChor': 2,\n",
    "        'Intensif': 6\n",
    "    }\n",
    "}"
   ]
  },
  {
   "cell_type": "markdown",
   "metadata": {},
   "source": [
    "<h2>0.5. Coefficients adhésions</h2>"
   ]
  },
  {
   "cell_type": "markdown",
   "metadata": {},
   "source": [
    "<h3>0.5.1. Type d'adhésion</h3>"
   ]
  },
  {
   "cell_type": "code",
   "execution_count": 39,
   "metadata": {},
   "outputs": [],
   "source": [
    "Coef_Adhesion = {\n",
    "    '1Tri': [1/3, 10],\n",
    "    '2Tri': [2/3, 5],\n",
    "    '3Tri': [3/3, 0]\n",
    "}"
   ]
  },
  {
   "cell_type": "markdown",
   "metadata": {},
   "source": [
    "<h3>0.5.2. Réductions</h3>"
   ]
  },
  {
   "cell_type": "code",
   "execution_count": 40,
   "metadata": {},
   "outputs": [],
   "source": [
    "Coef_Reduction = {\n",
    "    2: 10,\n",
    "    3: 15,\n",
    "    4: 20\n",
    "}"
   ]
  },
  {
   "cell_type": "markdown",
   "metadata": {},
   "source": [
    "<h1>1. Import des librairies</h1>"
   ]
  },
  {
   "cell_type": "code",
   "execution_count": 41,
   "metadata": {},
   "outputs": [],
   "source": [
    "import numpy as np\n",
    "import pandas as pd"
   ]
  },
  {
   "cell_type": "markdown",
   "metadata": {},
   "source": [
    "<h1>2. Générer des DataFrames</h1>"
   ]
  },
  {
   "cell_type": "markdown",
   "metadata": {},
   "source": [
    "<h2>2.1. Génération des dataframes à partir des dictionnaires </h2>"
   ]
  },
  {
   "cell_type": "code",
   "execution_count": 77,
   "metadata": {},
   "outputs": [],
   "source": [
    "DF_CH_Prof = pd.DataFrame(CH_Prof)\n",
    "DF_CH_Salle = pd.DataFrame(CH_Salle)\n",
    "DF_CH_Assurance = pd.DataFrame(CH_Assurance)\n",
    "DF_CU_Deplacement = pd.DataFrame(CU_Deplacement)\n",
    "DF_Cours = pd.DataFrame(Cours)\n",
    "DF_Coef_Adhesion = pd.DataFrame(Coef_Adhesion)"
   ]
  },
  {
   "cell_type": "markdown",
   "metadata": {},
   "source": [
    "<h2>2.2. Compléter les dataframes</h2>"
   ]
  },
  {
   "cell_type": "code",
   "execution_count": 78,
   "metadata": {},
   "outputs": [],
   "source": [
    "DF_Cours['DureeTotal'] = DF_Cours['NbSeances'] * DF_Cours['DureeSeance']"
   ]
  },
  {
   "cell_type": "markdown",
   "metadata": {},
   "source": [
    "<h2>2.3. Concaténer les dataframes</h2>"
   ]
  },
  {
   "cell_type": "code",
   "execution_count": 79,
   "metadata": {},
   "outputs": [],
   "source": [
    "DF_CoutsHoraire = pd.concat(\n",
    "    {\n",
    "        'Prof': DF_CH_Prof,\n",
    "        'Salle': DF_CH_Salle,\n",
    "        'Assurance': DF_CH_Assurance,\n",
    "    }, axis=1)"
   ]
  },
  {
   "cell_type": "markdown",
   "metadata": {},
   "source": [
    "<h1>3. Calculer les budgets annuel</h2>"
   ]
  },
  {
   "cell_type": "code",
   "execution_count": 91,
   "metadata": {},
   "outputs": [],
   "source": [
    "DF_Budget = pd.concat(\n",
    "    [\n",
    "        DF_CoutsHoraire.multiply(DF_Cours['DureeTotal'], axis=0),\n",
    "        pd.concat({'Deplacement': DF_CU_Deplacement.multiply(DF_Cours['NbSeances'], axis=0)}, axis=1),\n",
    "        \n",
    "    ], axis=1)"
   ]
  },
  {
   "cell_type": "code",
   "execution_count": 92,
   "metadata": {},
   "outputs": [
    {
     "data": {
      "text/html": [
       "<div>\n",
       "<style scoped>\n",
       "    .dataframe tbody tr th:only-of-type {\n",
       "        vertical-align: middle;\n",
       "    }\n",
       "\n",
       "    .dataframe tbody tr th {\n",
       "        vertical-align: top;\n",
       "    }\n",
       "\n",
       "    .dataframe thead tr th {\n",
       "        text-align: left;\n",
       "    }\n",
       "</style>\n",
       "<table border=\"1\" class=\"dataframe\">\n",
       "  <thead>\n",
       "    <tr>\n",
       "      <th></th>\n",
       "      <th colspan=\"3\" halign=\"left\">Prof</th>\n",
       "      <th colspan=\"2\" halign=\"left\">Salle</th>\n",
       "      <th>Assurance</th>\n",
       "      <th colspan=\"3\" halign=\"left\">Deplacement</th>\n",
       "    </tr>\n",
       "    <tr>\n",
       "      <th></th>\n",
       "      <th>Johanna</th>\n",
       "      <th>Merhan</th>\n",
       "      <th>Samuel</th>\n",
       "      <th>Orpheon</th>\n",
       "      <th>StEtienne</th>\n",
       "      <th>Orpheon</th>\n",
       "      <th>Johanna</th>\n",
       "      <th>Merhan</th>\n",
       "      <th>Samuel</th>\n",
       "    </tr>\n",
       "  </thead>\n",
       "  <tbody>\n",
       "    <tr>\n",
       "      <th>Niv1</th>\n",
       "      <td>1485.0</td>\n",
       "      <td>NaN</td>\n",
       "      <td>2722.5</td>\n",
       "      <td>841.5</td>\n",
       "      <td>NaN</td>\n",
       "      <td>25.245</td>\n",
       "      <td>0.0</td>\n",
       "      <td>NaN</td>\n",
       "      <td>0.0</td>\n",
       "    </tr>\n",
       "    <tr>\n",
       "      <th>Niv2</th>\n",
       "      <td>1485.0</td>\n",
       "      <td>NaN</td>\n",
       "      <td>2722.5</td>\n",
       "      <td>841.5</td>\n",
       "      <td>NaN</td>\n",
       "      <td>25.245</td>\n",
       "      <td>0.0</td>\n",
       "      <td>NaN</td>\n",
       "      <td>0.0</td>\n",
       "    </tr>\n",
       "    <tr>\n",
       "      <th>Bodywork</th>\n",
       "      <td>NaN</td>\n",
       "      <td>900.0</td>\n",
       "      <td>NaN</td>\n",
       "      <td>NaN</td>\n",
       "      <td>0.0</td>\n",
       "      <td>7.650</td>\n",
       "      <td>NaN</td>\n",
       "      <td>150.0</td>\n",
       "      <td>NaN</td>\n",
       "    </tr>\n",
       "    <tr>\n",
       "      <th>LadyStyling</th>\n",
       "      <td>NaN</td>\n",
       "      <td>1350.0</td>\n",
       "      <td>NaN</td>\n",
       "      <td>NaN</td>\n",
       "      <td>0.0</td>\n",
       "      <td>11.475</td>\n",
       "      <td>NaN</td>\n",
       "      <td>150.0</td>\n",
       "      <td>NaN</td>\n",
       "    </tr>\n",
       "    <tr>\n",
       "      <th>AtChor</th>\n",
       "      <td>NaN</td>\n",
       "      <td>1200.0</td>\n",
       "      <td>1100.0</td>\n",
       "      <td>NaN</td>\n",
       "      <td>0.0</td>\n",
       "      <td>NaN</td>\n",
       "      <td>NaN</td>\n",
       "      <td>100.0</td>\n",
       "      <td>0.0</td>\n",
       "    </tr>\n",
       "    <tr>\n",
       "      <th>Intensif</th>\n",
       "      <td>NaN</td>\n",
       "      <td>3300.0</td>\n",
       "      <td>3300.0</td>\n",
       "      <td>NaN</td>\n",
       "      <td>0.0</td>\n",
       "      <td>NaN</td>\n",
       "      <td>NaN</td>\n",
       "      <td>100.0</td>\n",
       "      <td>0.0</td>\n",
       "    </tr>\n",
       "  </tbody>\n",
       "</table>\n",
       "</div>"
      ],
      "text/plain": [
       "               Prof                   Salle           Assurance Deplacement  \\\n",
       "            Johanna  Merhan  Samuel Orpheon StEtienne   Orpheon     Johanna   \n",
       "Niv1         1485.0     NaN  2722.5   841.5       NaN    25.245         0.0   \n",
       "Niv2         1485.0     NaN  2722.5   841.5       NaN    25.245         0.0   \n",
       "Bodywork        NaN   900.0     NaN     NaN       0.0     7.650         NaN   \n",
       "LadyStyling     NaN  1350.0     NaN     NaN       0.0    11.475         NaN   \n",
       "AtChor          NaN  1200.0  1100.0     NaN       0.0       NaN         NaN   \n",
       "Intensif        NaN  3300.0  3300.0     NaN       0.0       NaN         NaN   \n",
       "\n",
       "                           \n",
       "            Merhan Samuel  \n",
       "Niv1           NaN    0.0  \n",
       "Niv2           NaN    0.0  \n",
       "Bodywork     150.0    NaN  \n",
       "LadyStyling  150.0    NaN  \n",
       "AtChor       100.0    0.0  \n",
       "Intensif     100.0    0.0  "
      ]
     },
     "execution_count": 92,
     "metadata": {},
     "output_type": "execute_result"
    }
   ],
   "source": [
    "DF_Budget"
   ]
  },
  {
   "cell_type": "code",
   "execution_count": 137,
   "metadata": {},
   "outputs": [],
   "source": [
    "BudgetAnnuelParCours = DF_Budget.sum(axis=1)\n",
    "DF_Budget_Transpose = DF_Budget.T.reset_index(names=['Categorie','Description'])\n",
    "BudgetAnnuelParCategorie = DF_Budget_Transpose.groupby('Categorie')[['Niv1','Niv2','Bodywork','LadyStyling','AtChor','Intensif']].sum().sum(axis=1)\n",
    "BudgetAnnuelParDescription = DF_Budget.T.reset_index(names=['Categorie','Description']).groupby('Description')[['Niv1','Niv2','Bodywork','LadyStyling','AtChor','Intensif']].sum().sum(axis=1)\n",
    "BudgetGlobal = DF_Budget.sum().sum()"
   ]
  },
  {
   "cell_type": "code",
   "execution_count": null,
   "metadata": {},
   "outputs": [],
   "source": []
  }
 ],
 "metadata": {
  "kernelspec": {
   "display_name": "base",
   "language": "python",
   "name": "python3"
  },
  "language_info": {
   "codemirror_mode": {
    "name": "ipython",
    "version": 3
   },
   "file_extension": ".py",
   "mimetype": "text/x-python",
   "name": "python",
   "nbconvert_exporter": "python",
   "pygments_lexer": "ipython3",
   "version": "3.12.4"
  }
 },
 "nbformat": 4,
 "nbformat_minor": 2
}
